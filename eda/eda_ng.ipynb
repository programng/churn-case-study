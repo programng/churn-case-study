{
 "cells": [
  {
   "cell_type": "code",
   "execution_count": 1,
   "metadata": {
    "collapsed": true
   },
   "outputs": [],
   "source": [
    "import pandas as pd\n",
    "import matplotlib.pyplot as plt\n",
    "import numpy as np\n",
    "from datetime import datetime, timedelta\n",
    "%matplotlib inline"
   ]
  },
  {
   "cell_type": "code",
   "execution_count": 2,
   "metadata": {
    "collapsed": false
   },
   "outputs": [],
   "source": [
    "train = pd.read_csv('../data/churn_train.csv', parse_dates=['signup_date', 'last_trip_date'], infer_datetime_format=True)\n",
    "test = pd.read_csv('../data/churn_test.csv')"
   ]
  },
  {
   "cell_type": "code",
   "execution_count": 3,
   "metadata": {
    "collapsed": false
   },
   "outputs": [
    {
     "data": {
      "text/plain": [
       "(40000, 12)"
      ]
     },
     "execution_count": 3,
     "metadata": {},
     "output_type": "execute_result"
    }
   ],
   "source": [
    "train.shape"
   ]
  },
  {
   "cell_type": "code",
   "execution_count": 4,
   "metadata": {
    "collapsed": false
   },
   "outputs": [
    {
     "name": "stdout",
     "output_type": "stream",
     "text": [
      "<class 'pandas.core.frame.DataFrame'>\n",
      "RangeIndex: 40000 entries, 0 to 39999\n",
      "Data columns (total 12 columns):\n",
      "avg_dist                  40000 non-null float64\n",
      "avg_rating_by_driver      39838 non-null float64\n",
      "avg_rating_of_driver      33472 non-null float64\n",
      "avg_surge                 40000 non-null float64\n",
      "city                      40000 non-null object\n",
      "last_trip_date            40000 non-null datetime64[ns]\n",
      "phone                     39681 non-null object\n",
      "signup_date               40000 non-null datetime64[ns]\n",
      "surge_pct                 40000 non-null float64\n",
      "trips_in_first_30_days    40000 non-null int64\n",
      "luxury_car_user           40000 non-null bool\n",
      "weekday_pct               40000 non-null float64\n",
      "dtypes: bool(1), datetime64[ns](2), float64(6), int64(1), object(2)\n",
      "memory usage: 3.4+ MB\n"
     ]
    }
   ],
   "source": [
    "train.info()"
   ]
  },
  {
   "cell_type": "code",
   "execution_count": 5,
   "metadata": {
    "collapsed": false
   },
   "outputs": [
    {
     "data": {
      "text/plain": [
       "'\\nData Descriptions:\\n\\ncity: city this user signed up in\\nphone: primary device for this user\\nsignup_date: date of account registration; in the form `YYYYMMDD`\\nlast_trip_date: the last time this user completed a trip; in the form `YYYYMMDD`\\navg_dist: the average distance (in miles) per trip taken in the first 30 days after signup\\navg_rating_by_driver: the rider\\xe2\\x80\\x99s average rating over all of their trips\\navg_rating_of_driver: the rider\\xe2\\x80\\x99s average rating of their drivers over all of their trips\\nsurge_pct: the percent of trips taken with surge multiplier > 1\\navg_surge: The average surge multiplier over all of this user\\xe2\\x80\\x99s trips\\ntrips_in_first_30_days: the number of trips this user took in the first 30 days after signing up\\nluxury_car_user: TRUE if the user took a luxury car in their first 30 days; FALSE otherwise\\nweekday_pct: the percent of the user\\xe2\\x80\\x99s trips occurring during a weekday\\n'"
      ]
     },
     "execution_count": 5,
     "metadata": {},
     "output_type": "execute_result"
    }
   ],
   "source": [
    "'''\n",
    "Data Descriptions:\n",
    "\n",
    "city: city this user signed up in\n",
    "phone: primary device for this user\n",
    "signup_date: date of account registration; in the form `YYYYMMDD`\n",
    "last_trip_date: the last time this user completed a trip; in the form `YYYYMMDD`\n",
    "avg_dist: the average distance (in miles) per trip taken in the first 30 days after signup\n",
    "avg_rating_by_driver: the rider’s average rating over all of their trips\n",
    "avg_rating_of_driver: the rider’s average rating of their drivers over all of their trips\n",
    "surge_pct: the percent of trips taken with surge multiplier > 1\n",
    "avg_surge: The average surge multiplier over all of this user’s trips\n",
    "trips_in_first_30_days: the number of trips this user took in the first 30 days after signing up\n",
    "luxury_car_user: TRUE if the user took a luxury car in their first 30 days; FALSE otherwise\n",
    "weekday_pct: the percent of the user’s trips occurring during a weekday\n",
    "'''"
   ]
  },
  {
   "cell_type": "code",
   "execution_count": 6,
   "metadata": {
    "collapsed": false
   },
   "outputs": [
    {
     "data": {
      "text/html": [
       "<div>\n",
       "<table border=\"1\" class=\"dataframe\">\n",
       "  <thead>\n",
       "    <tr style=\"text-align: right;\">\n",
       "      <th></th>\n",
       "      <th>avg_dist</th>\n",
       "      <th>avg_rating_by_driver</th>\n",
       "      <th>avg_rating_of_driver</th>\n",
       "      <th>avg_surge</th>\n",
       "      <th>city</th>\n",
       "      <th>last_trip_date</th>\n",
       "      <th>phone</th>\n",
       "      <th>signup_date</th>\n",
       "      <th>surge_pct</th>\n",
       "      <th>trips_in_first_30_days</th>\n",
       "      <th>luxury_car_user</th>\n",
       "      <th>weekday_pct</th>\n",
       "    </tr>\n",
       "  </thead>\n",
       "  <tbody>\n",
       "    <tr>\n",
       "      <th>0</th>\n",
       "      <td>6.94</td>\n",
       "      <td>5.0</td>\n",
       "      <td>5.0</td>\n",
       "      <td>1.00</td>\n",
       "      <td>Astapor</td>\n",
       "      <td>2014-05-03</td>\n",
       "      <td>Android</td>\n",
       "      <td>2014-01-12</td>\n",
       "      <td>0.0</td>\n",
       "      <td>0</td>\n",
       "      <td>False</td>\n",
       "      <td>100.0</td>\n",
       "    </tr>\n",
       "    <tr>\n",
       "      <th>1</th>\n",
       "      <td>8.06</td>\n",
       "      <td>5.0</td>\n",
       "      <td>5.0</td>\n",
       "      <td>1.00</td>\n",
       "      <td>Astapor</td>\n",
       "      <td>2014-01-26</td>\n",
       "      <td>Android</td>\n",
       "      <td>2014-01-25</td>\n",
       "      <td>0.0</td>\n",
       "      <td>2</td>\n",
       "      <td>True</td>\n",
       "      <td>0.0</td>\n",
       "    </tr>\n",
       "    <tr>\n",
       "      <th>2</th>\n",
       "      <td>21.50</td>\n",
       "      <td>4.0</td>\n",
       "      <td>NaN</td>\n",
       "      <td>1.00</td>\n",
       "      <td>Winterfell</td>\n",
       "      <td>2014-05-21</td>\n",
       "      <td>iPhone</td>\n",
       "      <td>2014-01-02</td>\n",
       "      <td>0.0</td>\n",
       "      <td>1</td>\n",
       "      <td>True</td>\n",
       "      <td>100.0</td>\n",
       "    </tr>\n",
       "    <tr>\n",
       "      <th>3</th>\n",
       "      <td>9.46</td>\n",
       "      <td>5.0</td>\n",
       "      <td>NaN</td>\n",
       "      <td>2.75</td>\n",
       "      <td>Winterfell</td>\n",
       "      <td>2014-01-10</td>\n",
       "      <td>Android</td>\n",
       "      <td>2014-01-09</td>\n",
       "      <td>100.0</td>\n",
       "      <td>1</td>\n",
       "      <td>False</td>\n",
       "      <td>100.0</td>\n",
       "    </tr>\n",
       "    <tr>\n",
       "      <th>4</th>\n",
       "      <td>13.77</td>\n",
       "      <td>5.0</td>\n",
       "      <td>NaN</td>\n",
       "      <td>1.00</td>\n",
       "      <td>Winterfell</td>\n",
       "      <td>2014-05-13</td>\n",
       "      <td>iPhone</td>\n",
       "      <td>2014-01-31</td>\n",
       "      <td>0.0</td>\n",
       "      <td>0</td>\n",
       "      <td>False</td>\n",
       "      <td>100.0</td>\n",
       "    </tr>\n",
       "  </tbody>\n",
       "</table>\n",
       "</div>"
      ],
      "text/plain": [
       "   avg_dist  avg_rating_by_driver  avg_rating_of_driver  avg_surge  \\\n",
       "0      6.94                   5.0                   5.0       1.00   \n",
       "1      8.06                   5.0                   5.0       1.00   \n",
       "2     21.50                   4.0                   NaN       1.00   \n",
       "3      9.46                   5.0                   NaN       2.75   \n",
       "4     13.77                   5.0                   NaN       1.00   \n",
       "\n",
       "         city last_trip_date    phone signup_date  surge_pct  \\\n",
       "0     Astapor     2014-05-03  Android  2014-01-12        0.0   \n",
       "1     Astapor     2014-01-26  Android  2014-01-25        0.0   \n",
       "2  Winterfell     2014-05-21   iPhone  2014-01-02        0.0   \n",
       "3  Winterfell     2014-01-10  Android  2014-01-09      100.0   \n",
       "4  Winterfell     2014-05-13   iPhone  2014-01-31        0.0   \n",
       "\n",
       "   trips_in_first_30_days luxury_car_user  weekday_pct  \n",
       "0                       0           False        100.0  \n",
       "1                       2            True          0.0  \n",
       "2                       1            True        100.0  \n",
       "3                       1           False        100.0  \n",
       "4                       0           False        100.0  "
      ]
     },
     "execution_count": 6,
     "metadata": {},
     "output_type": "execute_result"
    }
   ],
   "source": [
    "train.head()"
   ]
  },
  {
   "cell_type": "code",
   "execution_count": 7,
   "metadata": {
    "collapsed": false
   },
   "outputs": [
    {
     "data": {
      "text/html": [
       "<div>\n",
       "<table border=\"1\" class=\"dataframe\">\n",
       "  <thead>\n",
       "    <tr style=\"text-align: right;\">\n",
       "      <th></th>\n",
       "      <th>avg_dist</th>\n",
       "      <th>avg_rating_by_driver</th>\n",
       "      <th>avg_rating_of_driver</th>\n",
       "      <th>avg_surge</th>\n",
       "      <th>surge_pct</th>\n",
       "      <th>trips_in_first_30_days</th>\n",
       "      <th>weekday_pct</th>\n",
       "    </tr>\n",
       "  </thead>\n",
       "  <tbody>\n",
       "    <tr>\n",
       "      <th>count</th>\n",
       "      <td>40000.000000</td>\n",
       "      <td>39838.000000</td>\n",
       "      <td>33472.000000</td>\n",
       "      <td>40000.000000</td>\n",
       "      <td>40000.000000</td>\n",
       "      <td>40000.000000</td>\n",
       "      <td>40000.000000</td>\n",
       "    </tr>\n",
       "    <tr>\n",
       "      <th>mean</th>\n",
       "      <td>5.791302</td>\n",
       "      <td>4.777434</td>\n",
       "      <td>4.601697</td>\n",
       "      <td>1.074956</td>\n",
       "      <td>8.857342</td>\n",
       "      <td>2.280700</td>\n",
       "      <td>60.874382</td>\n",
       "    </tr>\n",
       "    <tr>\n",
       "      <th>std</th>\n",
       "      <td>5.708056</td>\n",
       "      <td>0.448088</td>\n",
       "      <td>0.614810</td>\n",
       "      <td>0.222427</td>\n",
       "      <td>20.014008</td>\n",
       "      <td>3.811289</td>\n",
       "      <td>37.089619</td>\n",
       "    </tr>\n",
       "    <tr>\n",
       "      <th>min</th>\n",
       "      <td>0.000000</td>\n",
       "      <td>1.000000</td>\n",
       "      <td>1.000000</td>\n",
       "      <td>1.000000</td>\n",
       "      <td>0.000000</td>\n",
       "      <td>0.000000</td>\n",
       "      <td>0.000000</td>\n",
       "    </tr>\n",
       "    <tr>\n",
       "      <th>25%</th>\n",
       "      <td>2.420000</td>\n",
       "      <td>4.700000</td>\n",
       "      <td>4.300000</td>\n",
       "      <td>1.000000</td>\n",
       "      <td>0.000000</td>\n",
       "      <td>0.000000</td>\n",
       "      <td>33.300000</td>\n",
       "    </tr>\n",
       "    <tr>\n",
       "      <th>50%</th>\n",
       "      <td>3.880000</td>\n",
       "      <td>5.000000</td>\n",
       "      <td>4.900000</td>\n",
       "      <td>1.000000</td>\n",
       "      <td>0.000000</td>\n",
       "      <td>1.000000</td>\n",
       "      <td>66.700000</td>\n",
       "    </tr>\n",
       "    <tr>\n",
       "      <th>75%</th>\n",
       "      <td>6.930000</td>\n",
       "      <td>5.000000</td>\n",
       "      <td>5.000000</td>\n",
       "      <td>1.050000</td>\n",
       "      <td>8.300000</td>\n",
       "      <td>3.000000</td>\n",
       "      <td>100.000000</td>\n",
       "    </tr>\n",
       "    <tr>\n",
       "      <th>max</th>\n",
       "      <td>160.960000</td>\n",
       "      <td>5.000000</td>\n",
       "      <td>5.000000</td>\n",
       "      <td>8.000000</td>\n",
       "      <td>100.000000</td>\n",
       "      <td>125.000000</td>\n",
       "      <td>100.000000</td>\n",
       "    </tr>\n",
       "  </tbody>\n",
       "</table>\n",
       "</div>"
      ],
      "text/plain": [
       "           avg_dist  avg_rating_by_driver  avg_rating_of_driver     avg_surge  \\\n",
       "count  40000.000000          39838.000000          33472.000000  40000.000000   \n",
       "mean       5.791302              4.777434              4.601697      1.074956   \n",
       "std        5.708056              0.448088              0.614810      0.222427   \n",
       "min        0.000000              1.000000              1.000000      1.000000   \n",
       "25%        2.420000              4.700000              4.300000      1.000000   \n",
       "50%        3.880000              5.000000              4.900000      1.000000   \n",
       "75%        6.930000              5.000000              5.000000      1.050000   \n",
       "max      160.960000              5.000000              5.000000      8.000000   \n",
       "\n",
       "          surge_pct  trips_in_first_30_days   weekday_pct  \n",
       "count  40000.000000            40000.000000  40000.000000  \n",
       "mean       8.857342                2.280700     60.874382  \n",
       "std       20.014008                3.811289     37.089619  \n",
       "min        0.000000                0.000000      0.000000  \n",
       "25%        0.000000                0.000000     33.300000  \n",
       "50%        0.000000                1.000000     66.700000  \n",
       "75%        8.300000                3.000000    100.000000  \n",
       "max      100.000000              125.000000    100.000000  "
      ]
     },
     "execution_count": 7,
     "metadata": {},
     "output_type": "execute_result"
    }
   ],
   "source": [
    "train.describe()"
   ]
  },
  {
   "cell_type": "code",
   "execution_count": 8,
   "metadata": {
    "collapsed": true
   },
   "outputs": [],
   "source": [
    "# sort the data by the signup_date\n",
    "# train.sort_values(by='signup_date', ascending=False, inplace=True)"
   ]
  },
  {
   "cell_type": "code",
   "execution_count": 9,
   "metadata": {
    "collapsed": false
   },
   "outputs": [
    {
     "name": "stdout",
     "output_type": "stream",
     "text": [
      "2014-07-01 00:00:00\n",
      "2014-01-01 00:00:00\n"
     ]
    }
   ],
   "source": [
    "print train['last_trip_date'].max()\n",
    "print train['last_trip_date'].min()"
   ]
  },
  {
   "cell_type": "code",
   "execution_count": 10,
   "metadata": {
    "collapsed": false
   },
   "outputs": [
    {
     "name": "stdout",
     "output_type": "stream",
     "text": [
      "2014-06-01 00:00:00\n"
     ]
    }
   ],
   "source": [
    "# New column of whether or not they are retained\n",
    "# Criteria: a user is 'retained' if they were “active” (i.e. took a trip) in the preceding 30 days\n",
    "thirty_days_prior_to_pulling_data = train['last_trip_date'].max() - timedelta(days=30)\n",
    "print thirty_days_prior_to_pulling_data\n",
    "train['retained'] = train['last_trip_date'] > thirty_days_prior_to_pulling_data\n",
    "del train['last_trip_date']"
   ]
  },
  {
   "cell_type": "code",
   "execution_count": 11,
   "metadata": {
    "collapsed": false
   },
   "outputs": [
    {
     "data": {
      "text/html": [
       "<div>\n",
       "<table border=\"1\" class=\"dataframe\">\n",
       "  <thead>\n",
       "    <tr style=\"text-align: right;\">\n",
       "      <th></th>\n",
       "      <th>avg_dist</th>\n",
       "      <th>avg_rating_by_driver</th>\n",
       "      <th>avg_rating_of_driver</th>\n",
       "      <th>avg_surge</th>\n",
       "      <th>city</th>\n",
       "      <th>phone</th>\n",
       "      <th>signup_date</th>\n",
       "      <th>surge_pct</th>\n",
       "      <th>trips_in_first_30_days</th>\n",
       "      <th>luxury_car_user</th>\n",
       "      <th>weekday_pct</th>\n",
       "      <th>retained</th>\n",
       "    </tr>\n",
       "  </thead>\n",
       "  <tbody>\n",
       "    <tr>\n",
       "      <th>0</th>\n",
       "      <td>6.94</td>\n",
       "      <td>5.0</td>\n",
       "      <td>5.0</td>\n",
       "      <td>1.00</td>\n",
       "      <td>Astapor</td>\n",
       "      <td>Android</td>\n",
       "      <td>2014-01-12</td>\n",
       "      <td>0.0</td>\n",
       "      <td>0</td>\n",
       "      <td>False</td>\n",
       "      <td>100.0</td>\n",
       "      <td>False</td>\n",
       "    </tr>\n",
       "    <tr>\n",
       "      <th>1</th>\n",
       "      <td>8.06</td>\n",
       "      <td>5.0</td>\n",
       "      <td>5.0</td>\n",
       "      <td>1.00</td>\n",
       "      <td>Astapor</td>\n",
       "      <td>Android</td>\n",
       "      <td>2014-01-25</td>\n",
       "      <td>0.0</td>\n",
       "      <td>2</td>\n",
       "      <td>True</td>\n",
       "      <td>0.0</td>\n",
       "      <td>False</td>\n",
       "    </tr>\n",
       "    <tr>\n",
       "      <th>2</th>\n",
       "      <td>21.50</td>\n",
       "      <td>4.0</td>\n",
       "      <td>NaN</td>\n",
       "      <td>1.00</td>\n",
       "      <td>Winterfell</td>\n",
       "      <td>iPhone</td>\n",
       "      <td>2014-01-02</td>\n",
       "      <td>0.0</td>\n",
       "      <td>1</td>\n",
       "      <td>True</td>\n",
       "      <td>100.0</td>\n",
       "      <td>False</td>\n",
       "    </tr>\n",
       "    <tr>\n",
       "      <th>3</th>\n",
       "      <td>9.46</td>\n",
       "      <td>5.0</td>\n",
       "      <td>NaN</td>\n",
       "      <td>2.75</td>\n",
       "      <td>Winterfell</td>\n",
       "      <td>Android</td>\n",
       "      <td>2014-01-09</td>\n",
       "      <td>100.0</td>\n",
       "      <td>1</td>\n",
       "      <td>False</td>\n",
       "      <td>100.0</td>\n",
       "      <td>False</td>\n",
       "    </tr>\n",
       "    <tr>\n",
       "      <th>4</th>\n",
       "      <td>13.77</td>\n",
       "      <td>5.0</td>\n",
       "      <td>NaN</td>\n",
       "      <td>1.00</td>\n",
       "      <td>Winterfell</td>\n",
       "      <td>iPhone</td>\n",
       "      <td>2014-01-31</td>\n",
       "      <td>0.0</td>\n",
       "      <td>0</td>\n",
       "      <td>False</td>\n",
       "      <td>100.0</td>\n",
       "      <td>False</td>\n",
       "    </tr>\n",
       "    <tr>\n",
       "      <th>5</th>\n",
       "      <td>14.51</td>\n",
       "      <td>5.0</td>\n",
       "      <td>NaN</td>\n",
       "      <td>1.00</td>\n",
       "      <td>Astapor</td>\n",
       "      <td>iPhone</td>\n",
       "      <td>2014-01-29</td>\n",
       "      <td>0.0</td>\n",
       "      <td>0</td>\n",
       "      <td>True</td>\n",
       "      <td>100.0</td>\n",
       "      <td>False</td>\n",
       "    </tr>\n",
       "    <tr>\n",
       "      <th>6</th>\n",
       "      <td>4.87</td>\n",
       "      <td>4.7</td>\n",
       "      <td>4.0</td>\n",
       "      <td>1.00</td>\n",
       "      <td>Astapor</td>\n",
       "      <td>Android</td>\n",
       "      <td>2014-01-18</td>\n",
       "      <td>0.0</td>\n",
       "      <td>0</td>\n",
       "      <td>False</td>\n",
       "      <td>66.7</td>\n",
       "      <td>False</td>\n",
       "    </tr>\n",
       "    <tr>\n",
       "      <th>7</th>\n",
       "      <td>1.78</td>\n",
       "      <td>4.0</td>\n",
       "      <td>5.0</td>\n",
       "      <td>1.00</td>\n",
       "      <td>Winterfell</td>\n",
       "      <td>iPhone</td>\n",
       "      <td>2014-01-11</td>\n",
       "      <td>0.0</td>\n",
       "      <td>3</td>\n",
       "      <td>False</td>\n",
       "      <td>0.0</td>\n",
       "      <td>False</td>\n",
       "    </tr>\n",
       "    <tr>\n",
       "      <th>8</th>\n",
       "      <td>6.87</td>\n",
       "      <td>5.0</td>\n",
       "      <td>4.7</td>\n",
       "      <td>1.00</td>\n",
       "      <td>Astapor</td>\n",
       "      <td>Android</td>\n",
       "      <td>2014-01-01</td>\n",
       "      <td>0.0</td>\n",
       "      <td>3</td>\n",
       "      <td>False</td>\n",
       "      <td>66.7</td>\n",
       "      <td>False</td>\n",
       "    </tr>\n",
       "    <tr>\n",
       "      <th>9</th>\n",
       "      <td>2.41</td>\n",
       "      <td>5.0</td>\n",
       "      <td>3.0</td>\n",
       "      <td>1.00</td>\n",
       "      <td>Winterfell</td>\n",
       "      <td>iPhone</td>\n",
       "      <td>2014-01-28</td>\n",
       "      <td>0.0</td>\n",
       "      <td>1</td>\n",
       "      <td>False</td>\n",
       "      <td>100.0</td>\n",
       "      <td>False</td>\n",
       "    </tr>\n",
       "  </tbody>\n",
       "</table>\n",
       "</div>"
      ],
      "text/plain": [
       "   avg_dist  avg_rating_by_driver  avg_rating_of_driver  avg_surge  \\\n",
       "0      6.94                   5.0                   5.0       1.00   \n",
       "1      8.06                   5.0                   5.0       1.00   \n",
       "2     21.50                   4.0                   NaN       1.00   \n",
       "3      9.46                   5.0                   NaN       2.75   \n",
       "4     13.77                   5.0                   NaN       1.00   \n",
       "5     14.51                   5.0                   NaN       1.00   \n",
       "6      4.87                   4.7                   4.0       1.00   \n",
       "7      1.78                   4.0                   5.0       1.00   \n",
       "8      6.87                   5.0                   4.7       1.00   \n",
       "9      2.41                   5.0                   3.0       1.00   \n",
       "\n",
       "         city    phone signup_date  surge_pct  trips_in_first_30_days  \\\n",
       "0     Astapor  Android  2014-01-12        0.0                       0   \n",
       "1     Astapor  Android  2014-01-25        0.0                       2   \n",
       "2  Winterfell   iPhone  2014-01-02        0.0                       1   \n",
       "3  Winterfell  Android  2014-01-09      100.0                       1   \n",
       "4  Winterfell   iPhone  2014-01-31        0.0                       0   \n",
       "5     Astapor   iPhone  2014-01-29        0.0                       0   \n",
       "6     Astapor  Android  2014-01-18        0.0                       0   \n",
       "7  Winterfell   iPhone  2014-01-11        0.0                       3   \n",
       "8     Astapor  Android  2014-01-01        0.0                       3   \n",
       "9  Winterfell   iPhone  2014-01-28        0.0                       1   \n",
       "\n",
       "  luxury_car_user  weekday_pct retained  \n",
       "0           False        100.0    False  \n",
       "1            True          0.0    False  \n",
       "2            True        100.0    False  \n",
       "3           False        100.0    False  \n",
       "4           False        100.0    False  \n",
       "5            True        100.0    False  \n",
       "6           False         66.7    False  \n",
       "7           False          0.0    False  \n",
       "8           False         66.7    False  \n",
       "9           False        100.0    False  "
      ]
     },
     "execution_count": 11,
     "metadata": {},
     "output_type": "execute_result"
    }
   ],
   "source": [
    "train.head(10)"
   ]
  },
  {
   "cell_type": "code",
   "execution_count": 12,
   "metadata": {
    "collapsed": false
   },
   "outputs": [
    {
     "data": {
      "text/plain": [
       "array([[<matplotlib.axes._subplots.AxesSubplot object at 0x11558af90>,\n",
       "        <matplotlib.axes._subplots.AxesSubplot object at 0x115a5a550>,\n",
       "        <matplotlib.axes._subplots.AxesSubplot object at 0x115887590>],\n",
       "       [<matplotlib.axes._subplots.AxesSubplot object at 0x115734850>,\n",
       "        <matplotlib.axes._subplots.AxesSubplot object at 0x116352210>,\n",
       "        <matplotlib.axes._subplots.AxesSubplot object at 0x1159214d0>],\n",
       "       [<matplotlib.axes._subplots.AxesSubplot object at 0x115b04d50>,\n",
       "        <matplotlib.axes._subplots.AxesSubplot object at 0x1160d0210>,\n",
       "        <matplotlib.axes._subplots.AxesSubplot object at 0x1161408d0>]], dtype=object)"
      ]
     },
     "execution_count": 12,
     "metadata": {},
     "output_type": "execute_result"
    },
    {
     "data": {
      "image/png": "[encoded data removed]",
      "text/plain": [
       "<matplotlib.figure.Figure at 0x11554bfd0>"
      ]
     },
     "metadata": {},
     "output_type": "display_data"
    }
   ],
   "source": [
    "train.hist(figsize=(15, 10))"
   ]
  },
  {
   "cell_type": "code",
   "execution_count": 46,
   "metadata": {
    "collapsed": false
   },
   "outputs": [
    {
     "data": {
      "text/plain": [
       "<matplotlib.axes._subplots.AxesSubplot at 0x120039250>"
      ]
     },
     "execution_count": 46,
     "metadata": {},
     "output_type": "execute_result"
    },
    {
     "data": {
      "image/png": "[encoded data removed]",
      "text/plain": [
       "<matplotlib.figure.Figure at 0x122bc7590>"
      ]
     },
     "metadata": {},
     "output_type": "display_data"
    }
   ],
   "source": [
    "agg = train.groupby(['retained', 'phone']).avg_dist.count()\n",
    "agg = agg.unstack(level='phone')\n",
    "fig1, ax1 = plt.subplots(1, 1, figsize=(10, 4))\n",
    "agg.plot(kind = 'bar', ax=ax1)"
   ]
  },
  {
   "cell_type": "code",
   "execution_count": 47,
   "metadata": {
    "collapsed": false
   },
   "outputs": [
    {
     "data": {
      "text/plain": [
       "<matplotlib.axes._subplots.AxesSubplot at 0x122c79b10>"
      ]
     },
     "execution_count": 47,
     "metadata": {},
     "output_type": "execute_result"
    },
    {
     "data": {
      "image/png": "[encoded data removed]",
      "text/plain": [
       "<matplotlib.figure.Figure at 0x122ccec90>"
      ]
     },
     "metadata": {},
     "output_type": "display_data"
    }
   ],
   "source": [
    "agg = train.groupby(['retained', 'city']).avg_dist.count()\n",
    "agg = agg.unstack(level='city')\n",
    "fig1, ax1 = plt.subplots(1, 1, figsize=(10, 4))\n",
    "agg.plot(kind = 'bar', ax=ax1)"
   ]
  },
  {
   "cell_type": "code",
   "execution_count": null,
   "metadata": {
    "collapsed": true
   },
   "outputs": [],
   "source": []
  },
  {
   "cell_type": "code",
   "execution_count": null,
   "metadata": {
    "collapsed": true
   },
   "outputs": [],
   "source": []
  },
  {
   "cell_type": "code",
   "execution_count": null,
   "metadata": {
    "collapsed": true
   },
   "outputs": [],
   "source": []
  },
  {
   "cell_type": "code",
   "execution_count": null,
   "metadata": {
    "collapsed": true
   },
   "outputs": [],
   "source": []
  },
  {
   "cell_type": "code",
   "execution_count": 13,
   "metadata": {
    "collapsed": false
   },
   "outputs": [],
   "source": [
    "# train.boxplot()"
   ]
  },
  {
   "cell_type": "code",
   "execution_count": 14,
   "metadata": {
    "collapsed": false
   },
   "outputs": [],
   "source": [
    "# pd.scatter_matrix(train, diagonal='kde', figsize=(30, 30))"
   ]
  },
  {
   "cell_type": "code",
   "execution_count": 15,
   "metadata": {
    "collapsed": false
   },
   "outputs": [
    {
     "name": "stdout",
     "output_type": "stream",
     "text": [
      "<class 'pandas.core.frame.DataFrame'>\n",
      "RangeIndex: 40000 entries, 0 to 39999\n",
      "Data columns (total 12 columns):\n",
      "avg_dist                  40000 non-null float64\n",
      "avg_rating_by_driver      39838 non-null float64\n",
      "avg_rating_of_driver      33472 non-null float64\n",
      "avg_surge                 40000 non-null float64\n",
      "city                      40000 non-null object\n",
      "phone                     39681 non-null object\n",
      "signup_date               40000 non-null datetime64[ns]\n",
      "surge_pct                 40000 non-null float64\n",
      "trips_in_first_30_days    40000 non-null int64\n",
      "luxury_car_user           40000 non-null bool\n",
      "weekday_pct               40000 non-null float64\n",
      "retained                  40000 non-null bool\n",
      "dtypes: bool(2), datetime64[ns](1), float64(6), int64(1), object(2)\n",
      "memory usage: 3.1+ MB\n"
     ]
    }
   ],
   "source": [
    "train.info()"
   ]
  },
  {
   "cell_type": "code",
   "execution_count": 16,
   "metadata": {
    "collapsed": false
   },
   "outputs": [],
   "source": [
    "# take out columns with missing values\n",
    "train = train[pd.notnull(train['avg_rating_by_driver'])]\n",
    "train = train[pd.notnull(train['avg_rating_of_driver'])]\n",
    "train = train[pd.notnull(train['phone'])]\n",
    "\n",
    "# fill missing values\n",
    "# train[\"avg_rating_by_driver\"] = train[\"avg_rating_by_driver\"].fillna(train[\"avg_rating_by_driver\"].median())\n",
    "# train[\"avg_rating_of_driver\"] = train[\"avg_rating_of_driver\"].fillna(train[\"avg_rating_by_driver\"].median())\n",
    "# train[\"phone\"] = train[\"phone\"]\n",
    "\n",
    "# later, do some basic analysis on the rows with missing values"
   ]
  },
  {
   "cell_type": "code",
   "execution_count": 17,
   "metadata": {
    "collapsed": true
   },
   "outputs": [],
   "source": [
    "phones = pd.get_dummies(train['phone'])\n",
    "cities = pd.get_dummies(train['city'])\n",
    "train = pd.concat([train, phones, cities], axis = 1)"
   ]
  },
  {
   "cell_type": "code",
   "execution_count": 18,
   "metadata": {
    "collapsed": false
   },
   "outputs": [
    {
     "data": {
      "text/html": [
       "<div>\n",
       "<table border=\"1\" class=\"dataframe\">\n",
       "  <thead>\n",
       "    <tr style=\"text-align: right;\">\n",
       "      <th></th>\n",
       "      <th>avg_dist</th>\n",
       "      <th>avg_rating_by_driver</th>\n",
       "      <th>avg_rating_of_driver</th>\n",
       "      <th>avg_surge</th>\n",
       "      <th>city</th>\n",
       "      <th>phone</th>\n",
       "      <th>signup_date</th>\n",
       "      <th>surge_pct</th>\n",
       "      <th>trips_in_first_30_days</th>\n",
       "      <th>luxury_car_user</th>\n",
       "      <th>weekday_pct</th>\n",
       "      <th>retained</th>\n",
       "      <th>Android</th>\n",
       "      <th>iPhone</th>\n",
       "      <th>Astapor</th>\n",
       "      <th>King's Landing</th>\n",
       "      <th>Winterfell</th>\n",
       "    </tr>\n",
       "  </thead>\n",
       "  <tbody>\n",
       "    <tr>\n",
       "      <th>0</th>\n",
       "      <td>6.94</td>\n",
       "      <td>5.0</td>\n",
       "      <td>5.0</td>\n",
       "      <td>1.0</td>\n",
       "      <td>Astapor</td>\n",
       "      <td>Android</td>\n",
       "      <td>2014-01-12</td>\n",
       "      <td>0.0</td>\n",
       "      <td>0</td>\n",
       "      <td>False</td>\n",
       "      <td>100.0</td>\n",
       "      <td>False</td>\n",
       "      <td>1</td>\n",
       "      <td>0</td>\n",
       "      <td>1</td>\n",
       "      <td>0</td>\n",
       "      <td>0</td>\n",
       "    </tr>\n",
       "    <tr>\n",
       "      <th>1</th>\n",
       "      <td>8.06</td>\n",
       "      <td>5.0</td>\n",
       "      <td>5.0</td>\n",
       "      <td>1.0</td>\n",
       "      <td>Astapor</td>\n",
       "      <td>Android</td>\n",
       "      <td>2014-01-25</td>\n",
       "      <td>0.0</td>\n",
       "      <td>2</td>\n",
       "      <td>True</td>\n",
       "      <td>0.0</td>\n",
       "      <td>False</td>\n",
       "      <td>1</td>\n",
       "      <td>0</td>\n",
       "      <td>1</td>\n",
       "      <td>0</td>\n",
       "      <td>0</td>\n",
       "    </tr>\n",
       "    <tr>\n",
       "      <th>6</th>\n",
       "      <td>4.87</td>\n",
       "      <td>4.7</td>\n",
       "      <td>4.0</td>\n",
       "      <td>1.0</td>\n",
       "      <td>Astapor</td>\n",
       "      <td>Android</td>\n",
       "      <td>2014-01-18</td>\n",
       "      <td>0.0</td>\n",
       "      <td>0</td>\n",
       "      <td>False</td>\n",
       "      <td>66.7</td>\n",
       "      <td>False</td>\n",
       "      <td>1</td>\n",
       "      <td>0</td>\n",
       "      <td>1</td>\n",
       "      <td>0</td>\n",
       "      <td>0</td>\n",
       "    </tr>\n",
       "    <tr>\n",
       "      <th>7</th>\n",
       "      <td>1.78</td>\n",
       "      <td>4.0</td>\n",
       "      <td>5.0</td>\n",
       "      <td>1.0</td>\n",
       "      <td>Winterfell</td>\n",
       "      <td>iPhone</td>\n",
       "      <td>2014-01-11</td>\n",
       "      <td>0.0</td>\n",
       "      <td>3</td>\n",
       "      <td>False</td>\n",
       "      <td>0.0</td>\n",
       "      <td>False</td>\n",
       "      <td>0</td>\n",
       "      <td>1</td>\n",
       "      <td>0</td>\n",
       "      <td>0</td>\n",
       "      <td>1</td>\n",
       "    </tr>\n",
       "    <tr>\n",
       "      <th>8</th>\n",
       "      <td>6.87</td>\n",
       "      <td>5.0</td>\n",
       "      <td>4.7</td>\n",
       "      <td>1.0</td>\n",
       "      <td>Astapor</td>\n",
       "      <td>Android</td>\n",
       "      <td>2014-01-01</td>\n",
       "      <td>0.0</td>\n",
       "      <td>3</td>\n",
       "      <td>False</td>\n",
       "      <td>66.7</td>\n",
       "      <td>False</td>\n",
       "      <td>1</td>\n",
       "      <td>0</td>\n",
       "      <td>1</td>\n",
       "      <td>0</td>\n",
       "      <td>0</td>\n",
       "    </tr>\n",
       "  </tbody>\n",
       "</table>\n",
       "</div>"
      ],
      "text/plain": [
       "   avg_dist  avg_rating_by_driver  avg_rating_of_driver  avg_surge  \\\n",
       "0      6.94                   5.0                   5.0        1.0   \n",
       "1      8.06                   5.0                   5.0        1.0   \n",
       "6      4.87                   4.7                   4.0        1.0   \n",
       "7      1.78                   4.0                   5.0        1.0   \n",
       "8      6.87                   5.0                   4.7        1.0   \n",
       "\n",
       "         city    phone signup_date  surge_pct  trips_in_first_30_days  \\\n",
       "0     Astapor  Android  2014-01-12        0.0                       0   \n",
       "1     Astapor  Android  2014-01-25        0.0                       2   \n",
       "6     Astapor  Android  2014-01-18        0.0                       0   \n",
       "7  Winterfell   iPhone  2014-01-11        0.0                       3   \n",
       "8     Astapor  Android  2014-01-01        0.0                       3   \n",
       "\n",
       "  luxury_car_user  weekday_pct retained  Android  iPhone  Astapor  \\\n",
       "0           False        100.0    False        1       0        1   \n",
       "1            True          0.0    False        1       0        1   \n",
       "6           False         66.7    False        1       0        1   \n",
       "7           False          0.0    False        0       1        0   \n",
       "8           False         66.7    False        1       0        1   \n",
       "\n",
       "   King's Landing  Winterfell  \n",
       "0               0           0  \n",
       "1               0           0  \n",
       "6               0           0  \n",
       "7               0           1  \n",
       "8               0           0  "
      ]
     },
     "execution_count": 18,
     "metadata": {},
     "output_type": "execute_result"
    }
   ],
   "source": [
    "train.head()\n"
   ]
  },
  {
   "cell_type": "code",
   "execution_count": null,
   "metadata": {
    "collapsed": true
   },
   "outputs": [],
   "source": []
  },
  {
   "cell_type": "code",
   "execution_count": null,
   "metadata": {
    "collapsed": true
   },
   "outputs": [],
   "source": []
  },
  {
   "cell_type": "code",
   "execution_count": 19,
   "metadata": {
    "collapsed": false
   },
   "outputs": [
    {
     "name": "stderr",
     "output_type": "stream",
     "text": [
      "/Users/jon/anaconda2/lib/python2.7/site-packages/sklearn/cross_validation.py:44: DeprecationWarning: This module was deprecated in version 0.18 in favor of the model_selection module into which all the refactored classes and functions are moved. Also note that the interface of the new CV iterators are different from that of this module. This module will be removed in 0.20.\n",
      "  \"This module will be removed in 0.20.\", DeprecationWarning)\n"
     ]
    }
   ],
   "source": [
    "from sklearn.cross_validation import train_test_split, cross_val_score\n"
   ]
  },
  {
   "cell_type": "code",
   "execution_count": 23,
   "metadata": {
    "collapsed": false
   },
   "outputs": [],
   "source": [
    "train[\"retained\"] = train[\"retained\"].map({True: 1, False: 0})\n",
    "train[\"luxury_car_user\"] = train[\"luxury_car_user\"].map({True: 1, False: 0})\n",
    "y = train['retained'].values\n",
    "X = train.drop(['retained', 'signup_date', 'city', 'phone', 'iPhone', 'Astapor'], axis = 1).values\n",
    "X_train, X_test, y_train, y_test = train_test_split(X, y, random_state=1)"
   ]
  },
  {
   "cell_type": "code",
   "execution_count": 24,
   "metadata": {
    "collapsed": false
   },
   "outputs": [
    {
     "name": "stdout",
     "output_type": "stream",
     "text": [
      "[  1.11   4.1    5.     1.08  25.     5.     0.    66.7    0.     0.     1.  ]\n"
     ]
    }
   ],
   "source": [
    "print X_train[0]"
   ]
  },
  {
   "cell_type": "code",
   "execution_count": 25,
   "metadata": {
    "collapsed": false
   },
   "outputs": [
    {
     "data": {
      "text/plain": [
       "RandomForestClassifier(bootstrap=True, class_weight=None, criterion='gini',\n",
       "            max_depth=None, max_features='auto', max_leaf_nodes=None,\n",
       "            min_impurity_split=1e-07, min_samples_leaf=1,\n",
       "            min_samples_split=2, min_weight_fraction_leaf=0.0,\n",
       "            n_estimators=10, n_jobs=1, oob_score=False, random_state=None,\n",
       "            verbose=0, warm_start=False)"
      ]
     },
     "execution_count": 25,
     "metadata": {},
     "output_type": "execute_result"
    }
   ],
   "source": [
    "from sklearn.ensemble import RandomForestClassifier\n",
    "rf = RandomForestClassifier()\n",
    "rf.fit(X_train, y_train)"
   ]
  },
  {
   "cell_type": "code",
   "execution_count": 26,
   "metadata": {
    "collapsed": false
   },
   "outputs": [
    {
     "data": {
      "text/plain": [
       "0.74296752384401787"
      ]
     },
     "execution_count": 26,
     "metadata": {},
     "output_type": "execute_result"
    }
   ],
   "source": [
    "rf.score(X_test, y_test)"
   ]
  },
  {
   "cell_type": "code",
   "execution_count": 27,
   "metadata": {
    "collapsed": true
   },
   "outputs": [],
   "source": [
    "y_predict = rf.predict(X_test)"
   ]
  },
  {
   "cell_type": "code",
   "execution_count": 30,
   "metadata": {
    "collapsed": false
   },
   "outputs": [
    {
     "name": "stdout",
     "output_type": "stream",
     "text": [
      "[[4103  877]\n",
      " [1252 2051]]\n",
      "0.700478142077\n",
      "0.620950650923\n"
     ]
    }
   ],
   "source": [
    "from sklearn.metrics import confusion_matrix, precision_score, recall_score\n",
    "print confusion_matrix(y_test, y_predict)\n",
    "print precision_score(y_test, y_predict)\n",
    "print recall_score(y_test, y_predict)"
   ]
  },
  {
   "cell_type": "code",
   "execution_count": 52,
   "metadata": {
    "collapsed": false
   },
   "outputs": [
    {
     "name": "stdout",
     "output_type": "stream",
     "text": [
      "0.7527465894\n",
      "0.753873395308\n"
     ]
    }
   ],
   "source": [
    "rf_oob = RandomForestClassifier(n_estimators=50, oob_score=True)\n",
    "rf_oob.fit(X_train, y_train)\n",
    "print rf_oob.score(X_test, y_test)\n",
    "print rf_oob.oob_score_"
   ]
  },
  {
   "cell_type": "code",
   "execution_count": 53,
   "metadata": {
    "collapsed": false
   },
   "outputs": [
    {
     "name": "stdout",
     "output_type": "stream",
     "text": [
      "top five: ['avg_dist', 'surge_pct', 'avg_rating_by_driver', 'city', 'phone']\n"
     ]
    }
   ],
   "source": [
    "feature_importances = np.argsort(rf_oob.feature_importances_)\n",
    "print \"top five:\", list(train.columns[feature_importances[-1:-6:-1]])"
   ]
  },
  {
   "cell_type": "code",
   "execution_count": 54,
   "metadata": {
    "collapsed": false
   },
   "outputs": [
    {
     "data": {
      "text/plain": [
       "array([ 0.75748431,  0.75407461,  0.75996136])"
      ]
     },
     "execution_count": 54,
     "metadata": {},
     "output_type": "execute_result"
    }
   ],
   "source": [
    "cross_val_score(rf_oob, X_train, y_train)"
   ]
  },
  {
   "cell_type": "code",
   "execution_count": null,
   "metadata": {
    "collapsed": true
   },
   "outputs": [],
   "source": []
  }
 ],
 "metadata": {
  "kernelspec": {
   "display_name": "Python [conda root]",
   "language": "python",
   "name": "conda-root-py"
  },
  "language_info": {
   "codemirror_mode": {
    "name": "ipython",
    "version": 2
   },
   "file_extension": ".py",
   "mimetype": "text/x-python",
   "name": "python",
   "nbconvert_exporter": "python",
   "pygments_lexer": "ipython2",
   "version": "2.7.13"
  }
 },
 "nbformat": 4,
 "nbformat_minor": 2
}

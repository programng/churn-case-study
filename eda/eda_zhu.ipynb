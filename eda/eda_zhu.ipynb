{
 "cells": [
  {
   "cell_type": "code",
   "execution_count": 4,
   "metadata": {
    "collapsed": true
   },
   "outputs": [],
   "source": [
    "%matplotlib inline\n",
    "%config InlineBackend.figure_format = 'retina'\n",
    "import numpy as np\n",
    "import pandas as pd\n",
    "import scipy.stats as scs\n",
    "import matplotlib.pyplot as plt\n",
    "import seaborn as sns\n",
    "import matplotlib.dates as mdates\n",
    "\n",
    "# model imports\n",
    "# from sklearn.tree import DecisionTreeRegressor\n",
    "# from sklearn.linear_model import LinearRegression\n",
    "# from sklearn.ensemble import AdaBoostRegressor\n",
    "# from sklearn.ensemble import RandomForestRegressor\n",
    "# from sklearn.ensemble import GradientBoostingRegressor\n",
    "# from sklearn.metrics import mean_squared_error, r2_score\n",
    "# from sklearn.model_selection import train_test_split\n",
    "\n",
    "from sklearn.neighbors import NearestNeighbors\n",
    "from sklearn.neighbors import KNeighborsClassifier as KNN\n",
    "\n",
    "import xgboost as xgb\n",
    "\n",
    "# imports from starter code by SRK\n",
    "import os\n",
    "import sys\n",
    "import operator\n",
    "from scipy import sparse\n",
    "from sklearn import model_selection, preprocessing, ensemble\n",
    "from sklearn.metrics import log_loss\n",
    "from sklearn.feature_extraction.text import TfidfVectorizer, CountVectorizer"
   ]
  },
  {
   "cell_type": "code",
   "execution_count": 13,
   "metadata": {
    "collapsed": false
   },
   "outputs": [
    {
     "name": "stdout",
     "output_type": "stream",
     "text": [
      "(10000, 12)\n",
      "(40000, 12)\n"
     ]
    }
   ],
   "source": [
    "data_path = \"../data/\"\n",
    "train_file = data_path + \"churn_test.csv\"\n",
    "test_file = data_path + \"churn_train.csv\"\n",
    "train_df = pd.read_csv(train_file, parse_dates=['last_trip_date', 'signup_date'], infer_datetime_format=True)\n",
    "test_df = pd.read_csv(test_file, parse_dates=['last_trip_date', 'signup_date'], infer_datetime_format=True)\n",
    "print(train_df.shape)\n",
    "print(test_df.shape)"
   ]
  },
  {
   "cell_type": "code",
   "execution_count": 16,
   "metadata": {
    "collapsed": false
   },
   "outputs": [
    {
     "data": {
      "text/html": [
       "<div>\n",
       "<table border=\"1\" class=\"dataframe\">\n",
       "  <thead>\n",
       "    <tr style=\"text-align: right;\">\n",
       "      <th></th>\n",
       "      <th>avg_dist</th>\n",
       "      <th>avg_rating_by_driver</th>\n",
       "      <th>avg_rating_of_driver</th>\n",
       "      <th>avg_surge</th>\n",
       "      <th>city</th>\n",
       "      <th>last_trip_date</th>\n",
       "      <th>phone</th>\n",
       "      <th>signup_date</th>\n",
       "      <th>surge_pct</th>\n",
       "      <th>trips_in_first_30_days</th>\n",
       "      <th>luxury_car_user</th>\n",
       "      <th>weekday_pct</th>\n",
       "    </tr>\n",
       "  </thead>\n",
       "  <tbody>\n",
       "    <tr>\n",
       "      <th>0</th>\n",
       "      <td>2.48</td>\n",
       "      <td>5.0</td>\n",
       "      <td>5.0</td>\n",
       "      <td>1.0</td>\n",
       "      <td>Winterfell</td>\n",
       "      <td>2014-01-07</td>\n",
       "      <td>Android</td>\n",
       "      <td>2014-01-06</td>\n",
       "      <td>0.0</td>\n",
       "      <td>2</td>\n",
       "      <td>True</td>\n",
       "      <td>100.0</td>\n",
       "    </tr>\n",
       "    <tr>\n",
       "      <th>1</th>\n",
       "      <td>10.81</td>\n",
       "      <td>5.0</td>\n",
       "      <td>5.0</td>\n",
       "      <td>1.0</td>\n",
       "      <td>Winterfell</td>\n",
       "      <td>2014-04-29</td>\n",
       "      <td>iPhone</td>\n",
       "      <td>2014-01-06</td>\n",
       "      <td>0.0</td>\n",
       "      <td>3</td>\n",
       "      <td>True</td>\n",
       "      <td>100.0</td>\n",
       "    </tr>\n",
       "    <tr>\n",
       "      <th>2</th>\n",
       "      <td>12.95</td>\n",
       "      <td>5.0</td>\n",
       "      <td>5.0</td>\n",
       "      <td>1.0</td>\n",
       "      <td>Astapor</td>\n",
       "      <td>2014-01-29</td>\n",
       "      <td>Android</td>\n",
       "      <td>2014-01-19</td>\n",
       "      <td>0.0</td>\n",
       "      <td>1</td>\n",
       "      <td>True</td>\n",
       "      <td>100.0</td>\n",
       "    </tr>\n",
       "    <tr>\n",
       "      <th>3</th>\n",
       "      <td>3.92</td>\n",
       "      <td>5.0</td>\n",
       "      <td>NaN</td>\n",
       "      <td>1.0</td>\n",
       "      <td>Winterfell</td>\n",
       "      <td>2014-02-16</td>\n",
       "      <td>iPhone</td>\n",
       "      <td>2014-01-09</td>\n",
       "      <td>0.0</td>\n",
       "      <td>0</td>\n",
       "      <td>False</td>\n",
       "      <td>0.0</td>\n",
       "    </tr>\n",
       "    <tr>\n",
       "      <th>4</th>\n",
       "      <td>1.46</td>\n",
       "      <td>5.0</td>\n",
       "      <td>4.5</td>\n",
       "      <td>1.0</td>\n",
       "      <td>Astapor</td>\n",
       "      <td>2014-01-09</td>\n",
       "      <td>iPhone</td>\n",
       "      <td>2014-01-07</td>\n",
       "      <td>0.0</td>\n",
       "      <td>2</td>\n",
       "      <td>False</td>\n",
       "      <td>100.0</td>\n",
       "    </tr>\n",
       "  </tbody>\n",
       "</table>\n",
       "</div>"
      ],
      "text/plain": [
       "   avg_dist  avg_rating_by_driver  avg_rating_of_driver  avg_surge  \\\n",
       "0      2.48                   5.0                   5.0        1.0   \n",
       "1     10.81                   5.0                   5.0        1.0   \n",
       "2     12.95                   5.0                   5.0        1.0   \n",
       "3      3.92                   5.0                   NaN        1.0   \n",
       "4      1.46                   5.0                   4.5        1.0   \n",
       "\n",
       "         city last_trip_date    phone signup_date  surge_pct  \\\n",
       "0  Winterfell     2014-01-07  Android  2014-01-06        0.0   \n",
       "1  Winterfell     2014-04-29   iPhone  2014-01-06        0.0   \n",
       "2     Astapor     2014-01-29  Android  2014-01-19        0.0   \n",
       "3  Winterfell     2014-02-16   iPhone  2014-01-09        0.0   \n",
       "4     Astapor     2014-01-09   iPhone  2014-01-07        0.0   \n",
       "\n",
       "   trips_in_first_30_days luxury_car_user  weekday_pct  \n",
       "0                       2            True        100.0  \n",
       "1                       3            True        100.0  \n",
       "2                       1            True        100.0  \n",
       "3                       0           False          0.0  \n",
       "4                       2           False        100.0  "
      ]
     },
     "execution_count": 16,
     "metadata": {},
     "output_type": "execute_result"
    }
   ],
   "source": [
    "train_df.head()"
   ]
  },
  {
   "cell_type": "code",
   "execution_count": 26,
   "metadata": {
    "collapsed": false
   },
   "outputs": [
    {
     "name": "stdout",
     "output_type": "stream",
     "text": [
      "column avg_rating_by_driver has 39 nulls\n",
      "count    9961.000000\n",
      "mean        4.781056\n",
      "std         0.440871\n",
      "min         1.000000\n",
      "25%              NaN\n",
      "50%              NaN\n",
      "75%              NaN\n",
      "max         5.000000\n",
      "Name: avg_rating_by_driver, dtype: float64\n",
      "\n",
      "column avg_rating_of_driver has 1594 nulls\n",
      "count    8406.000000\n",
      "mean        4.601011\n",
      "std         0.627343\n",
      "min         1.000000\n",
      "25%              NaN\n",
      "50%              NaN\n",
      "75%              NaN\n",
      "max         5.000000\n",
      "Name: avg_rating_of_driver, dtype: float64\n",
      "\n",
      "column phone has 77 nulls\n",
      "count       9923\n",
      "unique         2\n",
      "top       iPhone\n",
      "freq        6954\n",
      "Name: phone, dtype: object\n",
      "\n"
     ]
    },
    {
     "name": "stderr",
     "output_type": "stream",
     "text": [
      "/opt/conda/lib/python3.5/site-packages/numpy/lib/function_base.py:3834: RuntimeWarning: Invalid value encountered in percentile\n",
      "  RuntimeWarning)\n"
     ]
    }
   ],
   "source": [
    "has_nulls = []\n",
    "for column in train_df.columns:\n",
    "    if train_df[column].isnull().sum() > 0:\n",
    "        has_nulls.append(column)\n",
    "        print(\"column {} has {} nulls\".format(column, train_df[column].isnull().sum()))\n",
    "        print(train_df[column].describe())\n",
    "        print(\"\")"
   ]
  },
  {
   "cell_type": "code",
   "execution_count": 27,
   "metadata": {
    "collapsed": false
   },
   "outputs": [
    {
     "name": "stdout",
     "output_type": "stream",
     "text": [
      "column avg_rating_by_driver has 162 nulls\n",
      "count    39838.000000\n",
      "mean         4.777434\n",
      "std          0.448088\n",
      "min          1.000000\n",
      "25%               NaN\n",
      "50%               NaN\n",
      "75%               NaN\n",
      "max          5.000000\n",
      "Name: avg_rating_by_driver, dtype: float64\n",
      "\n",
      "column avg_rating_of_driver has 6528 nulls\n",
      "count    33472.000000\n",
      "mean         4.601697\n",
      "std          0.614810\n",
      "min          1.000000\n",
      "25%               NaN\n",
      "50%               NaN\n",
      "75%               NaN\n",
      "max          5.000000\n",
      "Name: avg_rating_of_driver, dtype: float64\n",
      "\n",
      "column phone has 319 nulls\n",
      "count      39681\n",
      "unique         2\n",
      "top       iPhone\n",
      "freq       27628\n",
      "Name: phone, dtype: object\n",
      "\n"
     ]
    },
    {
     "name": "stderr",
     "output_type": "stream",
     "text": [
      "/opt/conda/lib/python3.5/site-packages/numpy/lib/function_base.py:3834: RuntimeWarning: Invalid value encountered in percentile\n",
      "  RuntimeWarning)\n"
     ]
    },
    {
     "data": {
      "text/plain": [
       "['avg_rating_by_driver', 'avg_rating_of_driver', 'phone']"
      ]
     },
     "execution_count": 27,
     "metadata": {},
     "output_type": "execute_result"
    }
   ],
   "source": [
    "has_nulls = []\n",
    "for column in test_df.columns:\n",
    "    if test_df[column].isnull().sum() > 0:\n",
    "        has_nulls.append(column)\n",
    "        print(\"column {} has {} nulls\".format(column, test_df[column].isnull().sum()))\n",
    "        print(test_df[column].describe())\n",
    "        print(\"\")\n",
    "has_nulls"
   ]
  },
  {
   "cell_type": "code",
   "execution_count": null,
   "metadata": {
    "collapsed": true
   },
   "outputs": [],
   "source": [
    "# Replacing ratings with means\n",
    "\n",
    "for column in ['avg_rating_by_driver', 'avg_rating_of_driver']:\n",
    "    train_df[train_df[column].isnull()] = train_df[column].mean()\n",
    "    test_df[test_df[column].isnull()] = test_df[column].mean()\n",
    "\n",
    "train_df['phone'] = "
   ]
  },
  {
   "cell_type": "code",
   "execution_count": 28,
   "metadata": {
    "collapsed": false
   },
   "outputs": [
    {
     "data": {
      "text/plain": [
       "4.781056118863625"
      ]
     },
     "execution_count": 28,
     "metadata": {},
     "output_type": "execute_result"
    }
   ],
   "source": []
  },
  {
   "cell_type": "raw",
   "metadata": {},
   "source": []
  }
 ],
 "metadata": {
  "anaconda-cloud": {},
  "kernelspec": {
   "display_name": "Python [default]",
   "language": "python",
   "name": "python3"
  },
  "language_info": {
   "codemirror_mode": {
    "name": "ipython",
    "version": 3
   },
   "file_extension": ".py",
   "mimetype": "text/x-python",
   "name": "python",
   "nbconvert_exporter": "python",
   "pygments_lexer": "ipython3",
   "version": "3.5.2"
  }
 },
 "nbformat": 4,
 "nbformat_minor": 1
}
